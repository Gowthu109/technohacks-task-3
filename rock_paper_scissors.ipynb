{
  "nbformat": 4,
  "nbformat_minor": 0,
  "metadata": {
    "colab": {
      "provenance": [],
      "authorship_tag": "ABX9TyNMYn3Cn5MfmTFK5I4d/rwQ",
      "include_colab_link": true
    },
    "kernelspec": {
      "name": "python3",
      "display_name": "Python 3"
    },
    "language_info": {
      "name": "python"
    }
  },
  "cells": [
    {
      "cell_type": "markdown",
      "metadata": {
        "id": "view-in-github",
        "colab_type": "text"
      },
      "source": [
        "<a href=\"https://colab.research.google.com/github/Gowthu109/technohacks-task-3/blob/main/rock_paper_scissors.ipynb\" target=\"_parent\"><img src=\"https://colab.research.google.com/assets/colab-badge.svg\" alt=\"Open In Colab\"/></a>"
      ]
    },
    {
      "cell_type": "code",
      "execution_count": 3,
      "metadata": {
        "colab": {
          "base_uri": "https://localhost:8080/"
        },
        "id": "fUmiNbMPcwCa",
        "outputId": "904fa3ab-809e-46df-a0cd-196752e6f302"
      },
      "outputs": [
        {
          "output_type": "stream",
          "name": "stdout",
          "text": [
            "Let's play Rock, Paper, Scissors!\n",
            "Enter your choice:\n",
            "1. rock\n",
            "2. paper\n",
            "3. scissors\n",
            "Your choice (1-3): 1\n",
            "You chose: rock\n",
            "Computer chose: paper\n",
            "Sorry! You lose!\n",
            "Do you want to play again? (yes/no): yes\n",
            "Let's play Rock, Paper, Scissors!\n",
            "Enter your choice:\n",
            "1. rock\n",
            "2. paper\n",
            "3. scissors\n",
            "Your choice (1-3): 2\n",
            "You chose: paper\n",
            "Computer chose: paper\n",
            "It's a tie!\n",
            "Do you want to play again? (yes/no): yes\n",
            "Let's play Rock, Paper, Scissors!\n",
            "Enter your choice:\n",
            "1. rock\n",
            "2. paper\n",
            "3. scissors\n",
            "Your choice (1-3): 3\n",
            "You chose: scissors\n",
            "Computer chose: paper\n",
            "Congratulations! You win!\n",
            "Do you want to play again? (yes/no): no\n",
            "Thank you for playing!\n"
          ]
        }
      ],
      "source": [
        "import random\n",
        "\n",
        "def play_game():\n",
        "    print(\"Let's play Rock, Paper, Scissors!\")\n",
        "    print(\"Enter your choice:\")\n",
        "    print(\"1. rock\")\n",
        "    print(\"2. paper\")\n",
        "    print(\"3. scissors\")\n",
        "\n",
        "    choices = [\"rock\", \"paper\", \"scissors\"]\n",
        "\n",
        "    user_choice = int(input(\"Your choice (1-3): \"))\n",
        "    while user_choice not in [1, 2, 3]:\n",
        "        print(\"Invalid choice. Please enter a valid number.\")\n",
        "        user_choice = int(input(\"Your choice (1-3): \"))\n",
        "\n",
        "    computer_choice = random.randint(1, 3)\n",
        "\n",
        "    print(\"You chose:\", choices[user_choice - 1])\n",
        "    print(\"Computer chose:\", choices[computer_choice - 1])\n",
        "\n",
        "    if user_choice == computer_choice:\n",
        "        print(\"It's a tie!\")\n",
        "    elif (user_choice == 1 and computer_choice == 3) or \\\n",
        "         (user_choice == 2 and computer_choice == 1) or \\\n",
        "         (user_choice == 3 and computer_choice == 2):\n",
        "        print(\"Congratulations! You win!\")\n",
        "    else:\n",
        "        print(\"Sorry! You lose!\")\n",
        "\n",
        "    play_again = input(\"Do you want to play again? (yes/no): \")\n",
        "    if play_again.lower() == \"yes\":\n",
        "        play_game()\n",
        "    else:\n",
        "        print(\"Thank you for playing!\")\n",
        "\n",
        "play_game()"
      ]
    }
  ]
}